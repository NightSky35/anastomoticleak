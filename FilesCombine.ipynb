{
 "metadata": {
  "language_info": {
   "codemirror_mode": {
    "name": "ipython",
    "version": 3
   },
   "file_extension": ".py",
   "mimetype": "text/x-python",
   "name": "python",
   "nbconvert_exporter": "python",
   "pygments_lexer": "ipython3",
   "version": "3.9.5"
  },
  "orig_nbformat": 4,
  "kernelspec": {
   "name": "python3",
   "display_name": "Python 3.9.5 64-bit"
  },
  "interpreter": {
   "hash": "31f2aee4e71d21fbe5cf8b01ff0e069b9275f58929596ceb00d14d90e3e16cd6"
  }
 },
 "nbformat": 4,
 "nbformat_minor": 2,
 "cells": [
  {
   "cell_type": "code",
   "execution_count": 1,
   "metadata": {},
   "outputs": [],
   "source": [
    "import os"
   ]
  },
  {
   "cell_type": "code",
   "execution_count": 2,
   "metadata": {},
   "outputs": [
    {
     "output_type": "stream",
     "name": "stdout",
     "text": [
      "Requirement already satisfied: openpyxl in /home/kchen/.local/lib/python3.9/site-packages (3.0.7)\n",
      "Requirement already satisfied: et-xmlfile in /home/kchen/.local/lib/python3.9/site-packages (from openpyxl) (1.1.0)\n",
      "Note: you may need to restart the kernel to use updated packages.\n"
     ]
    }
   ],
   "source": [
    "pip install openpyxl"
   ]
  },
  {
   "cell_type": "code",
   "execution_count": 9,
   "metadata": {},
   "outputs": [],
   "source": [
    "import pandas as pd"
   ]
  },
  {
   "cell_type": "code",
   "execution_count": 10,
   "metadata": {},
   "outputs": [],
   "source": [
    "import numpy as np\n",
    "import glob"
   ]
  },
  {
   "cell_type": "code",
   "execution_count": 37,
   "metadata": {},
   "outputs": [],
   "source": [
    "os.chdir(r'/home/kchen/Documents/AL/Data/Raw')"
   ]
  },
  {
   "cell_type": "code",
   "execution_count": 38,
   "metadata": {},
   "outputs": [
    {
     "output_type": "execute_result",
     "data": {
      "text/plain": [
       "['puf_tar_col_2018.csv',\n",
       " 'puf_tar_col_2016.csv',\n",
       " 'acs_nsqip_puf13.csv',\n",
       " 'acs_nsqip_puf16.csv',\n",
       " 'Proctectomy',\n",
       " 'acs_nsqip_puf18.csv',\n",
       " '.~lock.acs_nsqip_puf13.csv#',\n",
       " 'puf_tar_col_2012.csv',\n",
       " 'acs_nsqip_puf17.csv',\n",
       " 'puf_tar_col_2014.csv',\n",
       " 'acs_nsqip_puf15_v2.csv',\n",
       " 'acs_nsqip_puf14.csv',\n",
       " 'Joined',\n",
       " 'puf_tar_col_2013.csv',\n",
       " 'acs_nsqip_puf12.csv',\n",
       " 'puf_tar_col_2017.csv',\n",
       " '.~lock.join_2016.csv#',\n",
       " '.~lock.join_2013.csv#',\n",
       " 'puf_tar_col_2015.csv']"
      ]
     },
     "metadata": {},
     "execution_count": 38
    }
   ],
   "source": [
    "os.listdir()"
   ]
  },
  {
   "cell_type": "code",
   "execution_count": 15,
   "metadata": {},
   "outputs": [],
   "source": [
    "list = ['acs_nsqip_puf12.xlsx',\n",
    " 'acs_nsqip_puf13.xlsx',\n",
    " 'acs_nsqip_puf14.xlsx',\n",
    " 'acs_nsqip_puf15_v2.csv',\n",
    " 'acs_nsqip_puf15_v2.xlsx',\n",
    " 'acs_nsqip_puf16.csv',\n",
    " 'acs_nsqip_puf16.xlsx',\n",
    " 'acs_nsqip_puf17.xlsx',\n",
    " 'acs_nsqip_puf18.csv',\n",
    " 'acs_nsqip_puf18.xlsx',\n",
    " 'FilesTransform.ipynb',\n",
    " 'join_2018.csv',\n",
    " 'ML Files',\n",
    " 'NSQIP Colorectal - Shortcut.lnk',\n",
    " 'NSQIP_Chapter 4 - 6.4.18.pdf',\n",
    " 'puf_tar_col_2012.csv',\n",
    " 'puf_tar_col_2012.xlsx',\n",
    " 'puf_tar_col_2013.csv',\n",
    " 'puf_tar_col_2013.xlsx',\n",
    " 'puf_tar_col_2014.csv',\n",
    " 'puf_tar_col_2014.xlsx',\n",
    " 'puf_tar_col_2015.csv',\n",
    " 'puf_tar_col_2015.xlsx',\n",
    " 'puf_tar_col_2016.csv',\n",
    " 'puf_tar_col_2016.xlsx',\n",
    " 'puf_tar_col_2017.csv',\n",
    " 'puf_tar_col_2017.xlsx',\n",
    " 'puf_tar_col_2018.csv',\n",
    " 'puf_tar_col_2018.txt',\n",
    " 'puf_tar_col_2018.xlsx',\n",
    " 'puf_tar_pro_2016.txt',\n",
    " 'puf_tar_pro_2016.xlsx',\n",
    " 'puf_tar_pro_2017.txt',\n",
    " 'puf_tar_pro_2017.xlsx',\n",
    " 'puf_tar_pro_2018.csv',\n",
    " 'puf_tar_pro_2018.txt',\n",
    " 'puf_tar_pro_2018.xlsx']"
   ]
  },
  {
   "cell_type": "code",
   "execution_count": 39,
   "metadata": {},
   "outputs": [
    {
     "output_type": "execute_result",
     "data": {
      "text/plain": [
       "'/home/kchen/Documents/AL/Data/Raw'"
      ]
     },
     "metadata": {},
     "execution_count": 39
    }
   ],
   "source": [
    "os.getcwd()"
   ]
  },
  {
   "cell_type": "code",
   "execution_count": 45,
   "metadata": {},
   "outputs": [
    {
     "output_type": "stream",
     "name": "stderr",
     "text": [
      "/usr/lib/python3/dist-packages/numpy/lib/arraysetops.py:580: FutureWarning: elementwise comparison failed; returning scalar instead, but in the future will perform elementwise comparison\n  mask |= (ar1 == a)\n"
     ]
    }
   ],
   "source": [
    "for i in range(16,19):\n",
    "    data_col2014 = pd.read_csv(r'puf_tar_col_20%d.csv' % i, index_col='CASEID')\n",
    "    data_puf2014 = pd.read_csv(r'acs_nsqip_puf%d.csv' % i, index_col='CaseID', low_memory=False)\n",
    "    join_2014 = data_col2014.join(data_puf2014, how='left')\n",
    "    join_2014.columns = map(str.upper, join_2014.columns)\n",
    "    join_2014.to_csv(r'join_20%d.csv' % i, index=True)"
   ]
  },
  {
   "cell_type": "code",
   "execution_count": 47,
   "metadata": {},
   "outputs": [],
   "source": [
    "i = 15"
   ]
  },
  {
   "cell_type": "code",
   "execution_count": 48,
   "metadata": {},
   "outputs": [],
   "source": [
    "data_col2014 = pd.read_csv(r'puf_tar_col_20%d.csv' % i, index_col='CASEID')\n",
    "data_puf2014 = pd.read_csv(r'acs_nsqip_puf%d_v2.csv' % i, index_col='CaseID', low_memory=False)\n",
    "join_2014 = data_col2014.join(data_puf2014, how='left')\n",
    "join_2014.columns = map(str.upper, join_2014.columns)\n",
    "join_2014.to_csv(r'join_20%d.csv' % i, index=True)"
   ]
  },
  {
   "cell_type": "code",
   "execution_count": 18,
   "metadata": {},
   "outputs": [
    {
     "output_type": "stream",
     "name": "stdout",
     "text": [
      "['COL_STEROID', 'COL_STEROID_UNK', 'COL_MECH_BOWEL_PREP', 'COL_MECH_BOWEL_PREP_UNK', 'COL_ORAL_ANTIBIOTIC', 'COL_ORAL_ANTIBIOTIC_UNK', 'COL_CHEMO', 'COL_CHEMO_UNK', 'COL_INDICATION', 'COL_ICD9_INDICATION', 'COL_EMERGENT', 'COL_ICD9_EMERGENT', 'COL_APPROACH', 'COL_MARGINS', 'COL_MARGINS_UNK', 'COL_MALIGNANCYT', 'COL_MALIGNANCYN', 'COL_MALIGNANCYM', 'COL_ANASTOMOTIC', 'COL_ILEUS', 'COL_ILEUS_UNK', 'SEX', 'RACE_NEW', 'ETHNICITY_HISPANIC', 'PRNCPTX', 'CPT', 'WORKRVU', 'INOUT', 'TRANST', 'AGE', 'ADMYR', 'ADMSYR', 'OPERYR', 'ANESTHES', 'ATTEND', 'SURGSPEC', 'HEIGHT', 'WEIGHT', 'DIABETES', 'SMOKE', 'PACKS', 'ETOH', 'DYSPNEA', 'DNR', 'FNSTATUS1', 'FNSTATUS2', 'VENTILAT', 'HXCOPD', 'CPNEUMON', 'ASCITES', 'ESOVAR', 'HXCHF', 'HXMI', 'PRVPCI', 'PRVPCS', 'HXANGINA', 'HYPERMED', 'HXPVD', 'RESTPAIN', 'RENAFAIL', 'DIALYSIS', 'IMPSENS', 'COMA', 'HEMI', 'HXTIA', 'CVA', 'CVANO', 'TUMORCNS', 'PARA', 'QUAD', 'DISCANCR', 'WNDINF', 'STEROID', 'WTLOSS', 'BLEEDDIS', 'TRANSFUS', 'CHEMO', 'RADIO', 'PRSEPIS', 'PREGNANCY', 'PROPER30', 'DPRNA', 'DPRBUN', 'DPRCREAT', 'DPRALBUM', 'DPRBILI', 'DPRSGOT', 'DPRALKPH', 'DPRWBC', 'DPRHCT', 'DPRPLATE', 'DPRPTT', 'DPRPT', 'DPRINR', 'PRSODM', 'PRBUN', 'PRCREAT', 'PRALBUM', 'PRBILI', 'PRSGOT', 'PRALKPH', 'PRWBC', 'PRHCT', 'PRPLATE', 'PRPTT', 'PRINR', 'PRPT', 'OTHERPROC1', 'OTHERCPT1', 'OTHERWRVU1', 'OTHERPROC2', 'OTHERCPT2', 'OTHERWRVU2', 'OTHERPROC3', 'OTHERCPT3', 'OTHERWRVU3', 'OTHERPROC4', 'OTHERCPT4', 'OTHERWRVU4', 'OTHERPROC5', 'OTHERCPT5', 'OTHERWRVU5', 'OTHERPROC6', 'OTHERCPT6', 'OTHERWRVU6', 'OTHERPROC7', 'OTHERCPT7', 'OTHERWRVU7', 'OTHERPROC8', 'OTHERCPT8', 'OTHERWRVU8', 'OTHERPROC9', 'OTHERCPT9', 'OTHERWRVU9', 'OTHERPROC10', 'OTHERCPT10', 'OTHERWRVU10', 'CONCURR1', 'CONCPT1', 'CONWRVU1', 'CONCURR2', 'CONCPT2', 'CONWRVU2', 'CONCURR3', 'CONCPT3', 'CONWRVU3', 'CONCURR4', 'CONCPT4', 'CONWRVU4', 'CONCURR5', 'CONCPT5', 'CONWRVU5', 'CONCURR6', 'CONCPT6', 'CONWRVU6', 'CONCURR7', 'CONCPT7', 'CONWRVU7', 'CONCURR8', 'CONCPT8', 'CONWRVU8', 'CONCURR9', 'CONCPT9', 'CONWRVU9', 'CONCURR10', 'CONCPT10', 'CONWRVU10', 'OPNOTE', 'PGY', 'EMERGNCY', 'WNDCLAS', 'ASACLAS', 'AIRTRA', 'MALLAMP', 'MORTPROB', 'MORBPROB', 'RBC', 'ANESURG', 'SURGANE', 'DPATRM', 'ANETIME', 'OPTIME', 'TYPEINTOC', 'SDISDT', 'HDISDT', 'YRDEATH', 'TOTHLOS', 'ADMQTR', 'HTOODAY', 'STOODAY', 'TOTSLOS', 'NSUPINFEC', 'SUPINFEC', 'DSUPINFEC', 'NWNDINFD', 'WNDINFD', 'DWNDINFD', 'NORGSPCSSI', 'ORGSPCSSI', 'DORGSPCSSI', 'NDEHIS', 'DEHIS', 'DDEHIS', 'NOUPNEUMO', 'OUPNEUMO', 'DOUPNEUMO', 'NREINTUB', 'REINTUB', 'DREINTUB', 'NPULEMBOL', 'PULEMBOL', 'DPULEMBOL', 'NFAILWEAN', 'FAILWEAN', 'DFAILWEAN', 'NRENAINSF', 'RENAINSF', 'DRENAINSF', 'NOPRENAFL', 'OPRENAFL', 'DOPRENAFL', 'NURNINFEC', 'URNINFEC', 'DURNINFEC', 'NCNSCVA', 'CNSCVA', 'DCNSCVA', 'NCNSCOMA', 'CNSCOMA', 'DCNSCOMA', 'NNEURODEF', 'NEURODEF', 'DNEURODEF', 'NCDARREST', 'CDARREST', 'DCDARREST', 'NCDMI', 'CDMI', 'DCDMI', 'NOTHBLEED', 'OTHBLEED', 'DOTHBLEED', 'NOTHGRAFL', 'OTHGRAFL', 'DOTHGRAFL', 'NOTHDVT', 'OTHDVT', 'DOTHDVT', 'NOTHSYSEP', 'OTHSYSEP', 'DOTHSYSEP', 'NOTHSESHOCK', 'OTHSESHOCK', 'DOTHSESHOCK', 'PODIAG', 'PODIAGTX', 'RETURNOR', 'DSDTOHD', 'DOPERTOD', 'DOPTODIS', 'ELECTSURG', 'DISCHDEST', 'READMISSION', 'UNPLANREADMISSION', 'REOPERATION', 'STILLINHOSP', 'SSSIPATOS', 'DSSIPATOS', 'OSSIPATOS', 'PNAPATOS', 'UTIPATOS', 'VENTPATOS', 'SEPSISPATOS', 'SEPSHOCKPATOS', 'REOPERATION1', 'RETORPODAYS', 'REOPORCPT1', 'RETORRELATED', 'REOPORICD91', 'REOPERATION2', 'RETOR2PODAYS', 'REOPOR2CPT1', 'RETOR2RELATED', 'REOPOR2ICD91', 'REOPERATION3', 'READMISSION1', 'READMPODAYS1', 'UNPLANNEDREADMISSION1', 'READMRELATED1', 'READMSUSPREASON1', 'READMRELICD91', 'READMISSION2', 'READMPODAYS2', 'UNPLANNEDREADMISSION2', 'READMRELATED2', 'READMSUSPREASON2', 'READMRELICD92', 'READMISSION3', 'READMPODAYS3', 'UNPLANNEDREADMISSION3', 'READMRELATED3', 'READMSUSPREASON3', 'READMRELICD93', 'READMISSION4', 'READMPODAYS4', 'UNPLANNEDREADMISSION4', 'READMRELATED4', 'READMSUSPREASON4', 'READMRELICD94', 'READMISSION5', 'READMPODAYS5', 'UNPLANNEDREADMISSION5', 'READMRELATED5', 'READMSUSPREASON5', 'READMRELICD95']\n"
     ]
    }
   ],
   "source": [
    "print(join_2014.columns.tolist())"
   ]
  },
  {
   "cell_type": "code",
   "execution_count": 33,
   "metadata": {},
   "outputs": [],
   "source": [
    "features = ['PRNCPTX', 'CPT', 'OTHERCPT1', 'OTHERCPT2', 'OTHERCPT3', 'OTHERCPT4', 'OTHERCPT5', 'OTHERCPT6', 'OTHERCPT7', 'OTHERCPT8', 'OTHERCPT9', 'OTHERCPT10','CONCPT1', 'CONCPT2', 'CONCPT3', 'CONCPT4', 'CONCPT5', 'CONCPT6', 'CONCPT7', 'CONCPT8', 'CONCPT9', 'CONCPT10','OPERYR', 'SEX', 'AGE', 'HEIGHT', 'WEIGHT', 'RACE_NEW', 'ETHNICITY_HISPANIC', 'COL_INDICATION', 'COL_EMERGENT', 'COL_STEROID', 'COL_MECH_BOWEL_PREP', 'COL_ORAL_ANTIBIOTIC', 'COL_CHEMO', 'INOUT', 'TRANST','WNDCLAS','ASACLAS', 'DIABETES', 'SMOKE', 'DYSPNEA', 'FNSTATUS2', 'VENTILAT', 'HXCOPD', 'ASCITES', 'HXCHF', 'HYPERMED', 'RENAFAIL', 'DIALYSIS', 'STEROID', 'WTLOSS', 'BLEEDDIS', 'TRANSFUS', 'PRSEPIS', 'PRSODM', 'PRBUN', 'PRCREAT',  'PRALBUM', 'PRBILI', 'PRALKPH', 'PRWBC', 'PRHCT', 'PRPLATE', 'PRPTT', 'PRINR', 'PRPT']"
   ]
  },
  {
   "cell_type": "code",
   "execution_count": null,
   "metadata": {},
   "outputs": [],
   "source": [
    "'BMI'"
   ]
  },
  {
   "cell_type": "code",
   "execution_count": 39,
   "metadata": {},
   "outputs": [
    {
     "output_type": "stream",
     "name": "stderr",
     "text": [
      "/home/kchen/.local/lib/python3.9/site-packages/IPython/core/interactiveshell.py:3441: DtypeWarning: Columns (12,35,42,44,49,51,53,54,55,56,58,59,62,63,64,65,66,67,68,69,70,77,78,80,81,109,112,132,135,139,150,153,156,159,277,279,284,291,300,301) have mixed types.Specify dtype option on import or set low_memory=False.\n  exec(code_obj, self.user_global_ns, self.user_ns)\n"
     ]
    }
   ],
   "source": [
    "join2012 = pd.read_csv('join_2012.csv', index_col=False)"
   ]
  },
  {
   "cell_type": "code",
   "execution_count": 50,
   "metadata": {},
   "outputs": [],
   "source": [
    "os.chdir(r'/home/kchen/Documents/AL/Data/Raw/Joined')\n"
   ]
  },
  {
   "cell_type": "code",
   "execution_count": 53,
   "metadata": {},
   "outputs": [
    {
     "output_type": "execute_result",
     "data": {
      "text/plain": [
       "['join_2018.csv',\n",
       " 'join_2013.csv',\n",
       " 'join_2014.csv',\n",
       " 'join_2016.csv',\n",
       " 'join_2012.csv',\n",
       " 'join_2015.csv',\n",
       " 'join_2017.csv',\n",
       " '.~lock.combined.csv#']"
      ]
     },
     "metadata": {},
     "execution_count": 53
    }
   ],
   "source": [
    "os.listdir()"
   ]
  },
  {
   "cell_type": "code",
   "execution_count": 55,
   "metadata": {},
   "outputs": [],
   "source": [
    "extension = 'csv'\n",
    "all_filenames = [i for i in glob.glob('*.{}'.format(extension))]"
   ]
  },
  {
   "cell_type": "code",
   "execution_count": 56,
   "metadata": {},
   "outputs": [],
   "source": [
    "#combine all files in the list\n",
    "combined_csv = pd.concat([pd.read_csv(f, low_memory=False) for f in all_filenames])\n",
    "#export to csv\n",
    "combined_csv.to_csv(r'/home/kchen/Documents/AL/Data/Raw/Joined/combined.csv', index=True, encoding='utf-8-sig')"
   ]
  },
  {
   "cell_type": "code",
   "execution_count": 67,
   "metadata": {},
   "outputs": [
    {
     "output_type": "execute_result",
     "data": {
      "text/plain": [
       "210488"
      ]
     },
     "metadata": {},
     "execution_count": 67
    }
   ],
   "source": []
  },
  {
   "cell_type": "code",
   "execution_count": null,
   "metadata": {},
   "outputs": [],
   "source": []
  }
 ]
}