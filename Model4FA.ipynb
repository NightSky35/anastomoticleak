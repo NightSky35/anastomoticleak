{
 "metadata": {
  "language_info": {
   "codemirror_mode": {
    "name": "ipython",
    "version": 3
   },
   "file_extension": ".py",
   "mimetype": "text/x-python",
   "name": "python",
   "nbconvert_exporter": "python",
   "pygments_lexer": "ipython3",
   "version": "3.9.5"
  },
  "orig_nbformat": 4,
  "kernelspec": {
   "name": "python3",
   "display_name": "Python 3.9.5 64-bit"
  },
  "interpreter": {
   "hash": "916dbcbb3f70747c44a77c7bcd40155683ae19c65e1c03b4aa3499c5328201f1"
  }
 },
 "nbformat": 4,
 "nbformat_minor": 2,
 "cells": [
  {
   "cell_type": "code",
   "execution_count": 26,
   "source": [
    "from fastai.tabular.all import *\n",
    "from fastcore.utils import *\n",
    "from sklearn.metrics import roc_auc_score\n",
    "from sklearn.ensemble import RandomForestClassifier\n",
    "from xgboost import XGBClassifier\n",
    "import os"
   ],
   "outputs": [],
   "metadata": {}
  },
  {
   "cell_type": "code",
   "execution_count": 45,
   "source": [
    "df = pd.read_csv(r'/home/kchen/Documents/AL/Data/data7.csv', index_col=0)\n",
    "df.head()"
   ],
   "outputs": [
    {
     "output_type": "execute_result",
     "data": {
      "text/plain": [
       "              AGE    HEIGHT    WEIGHT       BMI    PRSODM     PRBUN   PRCREAT  \\\n",
       "CASEID                                                                          \n",
       "8080841  0.698630  0.565217  0.220459  0.163738  0.560606  0.060302  0.032886   \n",
       "8080850  0.452055  0.652174  0.250441  0.160112  0.500000  0.095477  0.059060   \n",
       "8080874  0.164384  0.456522  0.292769  0.286363  0.545455  0.030151  0.027517   \n",
       "8080921  0.657534  0.695652  0.294533  0.180788  0.515152  0.050251  0.061745   \n",
       "8080981  0.712329  0.565217  0.213404  0.157164  0.590909  0.055276  0.046980   \n",
       "\n",
       "          PRALBUM     PRWBC     PRHCT  ...  COL_APPROACH_9  COL_APPROACH_10  \\\n",
       "CASEID                                 ...                                    \n",
       "8080841  0.235294  0.062205  0.363462  ...               0                0   \n",
       "8080850  0.200000  0.029218  0.350000  ...               0                0   \n",
       "8080874  0.305882  0.101037  0.536538  ...               0                0   \n",
       "8080921  0.152941  0.074741  0.269231  ...               0                0   \n",
       "8080981  0.364706  0.095193  0.653846  ...               0                0   \n",
       "\n",
       "         COL_APPROACH_11  OPERYR_0  OPERYR_1  OPERYR_2  OPERYR_3  OPERYR_4  \\\n",
       "CASEID                                                                       \n",
       "8080841                0         0         0         0         0         0   \n",
       "8080850                0         0         0         0         0         0   \n",
       "8080874                0         0         0         0         0         0   \n",
       "8080921                0         0         0         0         0         0   \n",
       "8080981                0         0         0         0         0         0   \n",
       "\n",
       "         OPERYR_5  OPERYR_6  \n",
       "CASEID                       \n",
       "8080841         0         1  \n",
       "8080850         0         1  \n",
       "8080874         0         1  \n",
       "8080921         0         1  \n",
       "8080981         0         1  \n",
       "\n",
       "[5 rows x 128 columns]"
      ],
      "text/html": [
       "<div>\n",
       "<style scoped>\n",
       "    .dataframe tbody tr th:only-of-type {\n",
       "        vertical-align: middle;\n",
       "    }\n",
       "\n",
       "    .dataframe tbody tr th {\n",
       "        vertical-align: top;\n",
       "    }\n",
       "\n",
       "    .dataframe thead th {\n",
       "        text-align: right;\n",
       "    }\n",
       "</style>\n",
       "<table border=\"1\" class=\"dataframe\">\n",
       "  <thead>\n",
       "    <tr style=\"text-align: right;\">\n",
       "      <th></th>\n",
       "      <th>AGE</th>\n",
       "      <th>HEIGHT</th>\n",
       "      <th>WEIGHT</th>\n",
       "      <th>BMI</th>\n",
       "      <th>PRSODM</th>\n",
       "      <th>PRBUN</th>\n",
       "      <th>PRCREAT</th>\n",
       "      <th>PRALBUM</th>\n",
       "      <th>PRWBC</th>\n",
       "      <th>PRHCT</th>\n",
       "      <th>...</th>\n",
       "      <th>COL_APPROACH_9</th>\n",
       "      <th>COL_APPROACH_10</th>\n",
       "      <th>COL_APPROACH_11</th>\n",
       "      <th>OPERYR_0</th>\n",
       "      <th>OPERYR_1</th>\n",
       "      <th>OPERYR_2</th>\n",
       "      <th>OPERYR_3</th>\n",
       "      <th>OPERYR_4</th>\n",
       "      <th>OPERYR_5</th>\n",
       "      <th>OPERYR_6</th>\n",
       "    </tr>\n",
       "    <tr>\n",
       "      <th>CASEID</th>\n",
       "      <th></th>\n",
       "      <th></th>\n",
       "      <th></th>\n",
       "      <th></th>\n",
       "      <th></th>\n",
       "      <th></th>\n",
       "      <th></th>\n",
       "      <th></th>\n",
       "      <th></th>\n",
       "      <th></th>\n",
       "      <th></th>\n",
       "      <th></th>\n",
       "      <th></th>\n",
       "      <th></th>\n",
       "      <th></th>\n",
       "      <th></th>\n",
       "      <th></th>\n",
       "      <th></th>\n",
       "      <th></th>\n",
       "      <th></th>\n",
       "      <th></th>\n",
       "    </tr>\n",
       "  </thead>\n",
       "  <tbody>\n",
       "    <tr>\n",
       "      <th>8080841</th>\n",
       "      <td>0.698630</td>\n",
       "      <td>0.565217</td>\n",
       "      <td>0.220459</td>\n",
       "      <td>0.163738</td>\n",
       "      <td>0.560606</td>\n",
       "      <td>0.060302</td>\n",
       "      <td>0.032886</td>\n",
       "      <td>0.235294</td>\n",
       "      <td>0.062205</td>\n",
       "      <td>0.363462</td>\n",
       "      <td>...</td>\n",
       "      <td>0</td>\n",
       "      <td>0</td>\n",
       "      <td>0</td>\n",
       "      <td>0</td>\n",
       "      <td>0</td>\n",
       "      <td>0</td>\n",
       "      <td>0</td>\n",
       "      <td>0</td>\n",
       "      <td>0</td>\n",
       "      <td>1</td>\n",
       "    </tr>\n",
       "    <tr>\n",
       "      <th>8080850</th>\n",
       "      <td>0.452055</td>\n",
       "      <td>0.652174</td>\n",
       "      <td>0.250441</td>\n",
       "      <td>0.160112</td>\n",
       "      <td>0.500000</td>\n",
       "      <td>0.095477</td>\n",
       "      <td>0.059060</td>\n",
       "      <td>0.200000</td>\n",
       "      <td>0.029218</td>\n",
       "      <td>0.350000</td>\n",
       "      <td>...</td>\n",
       "      <td>0</td>\n",
       "      <td>0</td>\n",
       "      <td>0</td>\n",
       "      <td>0</td>\n",
       "      <td>0</td>\n",
       "      <td>0</td>\n",
       "      <td>0</td>\n",
       "      <td>0</td>\n",
       "      <td>0</td>\n",
       "      <td>1</td>\n",
       "    </tr>\n",
       "    <tr>\n",
       "      <th>8080874</th>\n",
       "      <td>0.164384</td>\n",
       "      <td>0.456522</td>\n",
       "      <td>0.292769</td>\n",
       "      <td>0.286363</td>\n",
       "      <td>0.545455</td>\n",
       "      <td>0.030151</td>\n",
       "      <td>0.027517</td>\n",
       "      <td>0.305882</td>\n",
       "      <td>0.101037</td>\n",
       "      <td>0.536538</td>\n",
       "      <td>...</td>\n",
       "      <td>0</td>\n",
       "      <td>0</td>\n",
       "      <td>0</td>\n",
       "      <td>0</td>\n",
       "      <td>0</td>\n",
       "      <td>0</td>\n",
       "      <td>0</td>\n",
       "      <td>0</td>\n",
       "      <td>0</td>\n",
       "      <td>1</td>\n",
       "    </tr>\n",
       "    <tr>\n",
       "      <th>8080921</th>\n",
       "      <td>0.657534</td>\n",
       "      <td>0.695652</td>\n",
       "      <td>0.294533</td>\n",
       "      <td>0.180788</td>\n",
       "      <td>0.515152</td>\n",
       "      <td>0.050251</td>\n",
       "      <td>0.061745</td>\n",
       "      <td>0.152941</td>\n",
       "      <td>0.074741</td>\n",
       "      <td>0.269231</td>\n",
       "      <td>...</td>\n",
       "      <td>0</td>\n",
       "      <td>0</td>\n",
       "      <td>0</td>\n",
       "      <td>0</td>\n",
       "      <td>0</td>\n",
       "      <td>0</td>\n",
       "      <td>0</td>\n",
       "      <td>0</td>\n",
       "      <td>0</td>\n",
       "      <td>1</td>\n",
       "    </tr>\n",
       "    <tr>\n",
       "      <th>8080981</th>\n",
       "      <td>0.712329</td>\n",
       "      <td>0.565217</td>\n",
       "      <td>0.213404</td>\n",
       "      <td>0.157164</td>\n",
       "      <td>0.590909</td>\n",
       "      <td>0.055276</td>\n",
       "      <td>0.046980</td>\n",
       "      <td>0.364706</td>\n",
       "      <td>0.095193</td>\n",
       "      <td>0.653846</td>\n",
       "      <td>...</td>\n",
       "      <td>0</td>\n",
       "      <td>0</td>\n",
       "      <td>0</td>\n",
       "      <td>0</td>\n",
       "      <td>0</td>\n",
       "      <td>0</td>\n",
       "      <td>0</td>\n",
       "      <td>0</td>\n",
       "      <td>0</td>\n",
       "      <td>1</td>\n",
       "    </tr>\n",
       "  </tbody>\n",
       "</table>\n",
       "<p>5 rows × 128 columns</p>\n",
       "</div>"
      ]
     },
     "metadata": {},
     "execution_count": 45
    }
   ],
   "metadata": {}
  },
  {
   "cell_type": "code",
   "execution_count": 46,
   "source": [
    "df.shape"
   ],
   "outputs": [
    {
     "output_type": "execute_result",
     "data": {
      "text/plain": [
       "(146781, 128)"
      ]
     },
     "metadata": {},
     "execution_count": 46
    }
   ],
   "metadata": {}
  },
  {
   "cell_type": "code",
   "execution_count": 47,
   "source": [
    "cont = ['AGE', 'HEIGHT', 'WEIGHT', 'BMI', 'PRSODM', 'PRBUN', 'PRCREAT', 'PRALBUM', 'PRWBC', 'PRHCT', 'PRPLATE']\n",
    "cat = ['PRNCPTX', 'OTHERCPT1', 'OTHERCPT2', 'OTHERCPT3', 'OTHERCPT4', 'OTHERCPT5', 'CONCPT1', 'COL_STEROID', 'COL_MECH_BOWEL_PREP', 'COL_ORAL_ANTIBIOTIC', 'COL_CHEMO', 'COL_INDICATION', 'SEX', 'RACE_NEW', 'ETHNICITY_HISPANIC', 'DIABETES', 'SMOKE', 'DYSPNEA', 'FNSTATUS2', 'VENTILAT', 'HXCOPD', 'ASCITES', 'HXCHF', 'HYPERMED', 'RENAFAIL', 'DIALYSIS', 'STEROID', 'WTLOSS', 'BLEEDDIS', 'TRANSFUS', 'PRSEPIS', 'ASACLAS', 'TRANST','WNDCLAS', 'CPT', 'OTHERCPT6', 'OTHERCPT7', 'OTHERCPT8', 'OTHERCPT9', 'OTHERCPT10', 'CONCPT2', 'CONCPT3', 'CONCPT4', 'CONCPT5', 'CONCPT6', 'CONCPT7', 'CONCPT8', 'CONCPT9', 'CONCPT10', 'COL_APPROACH', 'OPERYR']"
   ],
   "outputs": [],
   "metadata": {}
  },
  {
   "cell_type": "code",
   "execution_count": 49,
   "source": [
    "splits = RandomSplitter(seed=0)(df)\n",
    "device = torch.device('cuda' if torch.cuda.is_available() else 'cpu')\n",
    "procs = [Categorify, Normalize]\n",
    "cont,cat = cont_cat_split(df, max_card=500, dep_var='COL_ANASTOMOTIC')\n",
    "to_nn = TabularPandas(df, procs, cat, cont, splits=splits, y_names='COL_ANASTOMOTIC')\n",
    "dls = to_nn.dataloaders(1024, device = device)"
   ],
   "outputs": [],
   "metadata": {}
  },
  {
   "cell_type": "code",
   "execution_count": 50,
   "source": [
    "learn = tabular_learner(dls, layers=[500, 250, 250], n_out=1)\n",
    "learn.fit_one_cycle(5, 1e-4)"
   ],
   "outputs": [
    {
     "output_type": "display_data",
     "data": {
      "text/plain": [
       "<IPython.core.display.HTML object>"
      ],
      "text/html": [
       "<table border=\"1\" class=\"dataframe\">\n",
       "  <thead>\n",
       "    <tr style=\"text-align: left;\">\n",
       "      <th>epoch</th>\n",
       "      <th>train_loss</th>\n",
       "      <th>valid_loss</th>\n",
       "      <th>time</th>\n",
       "    </tr>\n",
       "  </thead>\n",
       "  <tbody>\n",
       "    <tr>\n",
       "      <td>0</td>\n",
       "      <td>0.086988</td>\n",
       "      <td>0.051941</td>\n",
       "      <td>00:19</td>\n",
       "    </tr>\n",
       "    <tr>\n",
       "      <td>1</td>\n",
       "      <td>0.046233</td>\n",
       "      <td>0.039661</td>\n",
       "      <td>00:19</td>\n",
       "    </tr>\n",
       "    <tr>\n",
       "      <td>2</td>\n",
       "      <td>0.037888</td>\n",
       "      <td>0.036939</td>\n",
       "      <td>00:20</td>\n",
       "    </tr>\n",
       "    <tr>\n",
       "      <td>3</td>\n",
       "      <td>0.034910</td>\n",
       "      <td>0.035403</td>\n",
       "      <td>00:19</td>\n",
       "    </tr>\n",
       "    <tr>\n",
       "      <td>4</td>\n",
       "      <td>0.033372</td>\n",
       "      <td>0.035007</td>\n",
       "      <td>00:19</td>\n",
       "    </tr>\n",
       "  </tbody>\n",
       "</table>"
      ]
     },
     "metadata": {}
    }
   ],
   "metadata": {}
  },
  {
   "cell_type": "code",
   "execution_count": 51,
   "source": [
    "preds,targs = learn.get_preds()\n",
    "roc_auc_score(targs, preds)"
   ],
   "outputs": [
    {
     "output_type": "display_data",
     "data": {
      "text/plain": [
       "<IPython.core.display.HTML object>"
      ],
      "text/html": []
     },
     "metadata": {}
    },
    {
     "output_type": "execute_result",
     "data": {
      "text/plain": [
       "0.53363592101898"
      ]
     },
     "metadata": {},
     "execution_count": 51
    }
   ],
   "metadata": {}
  },
  {
   "cell_type": "code",
   "execution_count": 28,
   "source": [
    "os.getcwd()"
   ],
   "outputs": [
    {
     "output_type": "execute_result",
     "data": {
      "text/plain": [
       "'/home/kchen/Documents/AL/Source'"
      ]
     },
     "metadata": {},
     "execution_count": 28
    }
   ],
   "metadata": {}
  },
  {
   "cell_type": "code",
   "execution_count": 52,
   "source": [
    "learn.save('learn1')"
   ],
   "outputs": [
    {
     "output_type": "execute_result",
     "data": {
      "text/plain": [
       "Path('models/learn1.pth')"
      ]
     },
     "metadata": {},
     "execution_count": 52
    }
   ],
   "metadata": {}
  },
  {
   "cell_type": "code",
   "execution_count": 53,
   "source": [
    "df1 = pd.read_csv(r'/home/kchen/Documents/AL/Data/data7.csv', low_memory=False, index_col=0)"
   ],
   "outputs": [],
   "metadata": {}
  },
  {
   "cell_type": "code",
   "execution_count": 21,
   "source": [
    "procs = [Categorify]\n",
    "to = TabularPandas(df1, procs, cat, cont, 'COL_ANASTOMOTIC', splits = splits)\n"
   ],
   "outputs": [],
   "metadata": {}
  },
  {
   "cell_type": "code",
   "execution_count": 37,
   "source": [
    "def rf(xs, y, n_estimators=40, max_samples=100_000,\n",
    "       max_features=0.5, min_samples_leaf=5, **kwargs):\n",
    "    return RandomForestClassifier(n_jobs=-1, n_estimators=n_estimators,\n",
    "        max_samples=max_samples, max_features=max_features,\n",
    "        min_samples_leaf=min_samples_leaf).fit(xs, y)"
   ],
   "outputs": [],
   "metadata": {}
  },
  {
   "cell_type": "code",
   "execution_count": 41,
   "source": [
    "def auc(model, X, y):\n",
    "    ppreds = model.predict_proba(X)\n",
    "    ppreds = ppreds[:,1]\n",
    "    pscore = roc_auc_score(y, ppreds)\n",
    "    print('AUC', pscore)"
   ],
   "outputs": [],
   "metadata": {}
  },
  {
   "cell_type": "code",
   "execution_count": 31,
   "source": [
    "learn = learn.load('learn1')"
   ],
   "outputs": [],
   "metadata": {}
  },
  {
   "cell_type": "code",
   "execution_count": 32,
   "source": [
    "def embed_features(learner, xs):\n",
    "  \"\"\"\n",
    "  learner: fastai Learner used to train the neural net\n",
    "  xs: DataFrame containing input variables with nominal values defined by their rank.\n",
    "  ::returns:: a copy of `xs` with embeddings replacing each categorical variable\n",
    "  \"\"\"\n",
    "  xs = xs.copy()\n",
    "  for i,col in enumerate(learn.dls.cat_names):\n",
    "    emb = learn.model.embeds[i]\n",
    "    emb_data = emb(tensor(xs[col], dtype=torch.int64).to(device))\n",
    "    emb_names = [f'{col}_{j}' for j in range(emb_data.shape[1])]\n",
    "    feat_df = pd.DataFrame(data=emb_data, index=xs.index, columns=emb_names)\n",
    "    xs = xs.drop(col, axis=1)\n",
    "    xs = xs.join(feat_df)\n",
    "  return xs"
   ],
   "outputs": [],
   "metadata": {}
  },
  {
   "cell_type": "code",
   "execution_count": 33,
   "source": [
    "emb_xs = embed_features(learn, to.train.xs)\n",
    "emb_valid_xs = embed_features(learn, to.valid.xs)"
   ],
   "outputs": [],
   "metadata": {}
  },
  {
   "cell_type": "code",
   "execution_count": 42,
   "source": [
    "m_cat = rf(to.train.xs, to.train.y)\n",
    "auc(m_cat, to.train.xs, to.train.y), auc(m_cat, to.valid.xs, to.valid.y)"
   ],
   "outputs": [
    {
     "output_type": "stream",
     "name": "stdout",
     "text": [
      "AUC 0.9993158674533451\n",
      "AUC 0.5956933523388667\n"
     ]
    },
    {
     "output_type": "execute_result",
     "data": {
      "text/plain": [
       "(None, None)"
      ]
     },
     "metadata": {},
     "execution_count": 42
    }
   ],
   "metadata": {}
  },
  {
   "cell_type": "code",
   "execution_count": 44,
   "source": [
    "m_emb = rf(emb_xs, to.train.y)\n",
    "auc(m_emb, emb_xs, to.train.y), auc(m_emb, emb_valid_xs, to.valid.y)"
   ],
   "outputs": [
    {
     "output_type": "stream",
     "name": "stdout",
     "text": [
      "AUC 0.9988475227043866\n",
      "AUC 0.6151324376669265\n"
     ]
    },
    {
     "output_type": "execute_result",
     "data": {
      "text/plain": [
       "(None, None)"
      ]
     },
     "metadata": {},
     "execution_count": 44
    }
   ],
   "metadata": {}
  },
  {
   "cell_type": "code",
   "execution_count": null,
   "source": [
    "# import modules, read data, and define options\n",
    "df = pd.read_csv(r'/home/kchen/Documents/AL/Data/data3.csv', low_memory=False, index_col=0)\n",
    "cont,cat = cont_cat_split(df, max_card=1000, dep_var='COL_ANASTOMOTIC')\n",
    "procs = [Categorify]\n",
    "splits = RandomSplitter()(df)\n",
    "device =torch.device('cuda' if torch.cuda.is_available() else 'cpu')\n"
   ],
   "outputs": [],
   "metadata": {}
  },
  {
   "cell_type": "code",
   "execution_count": null,
   "source": [
    "# feed the data into the Learner and train\n",
    "to_nn = TabularPandas(nn, procs, cat, cont,\n",
    "                      splits=splits, y_names='COL_ANASTOMOTIC')\n",
    "dls = to_nn.dataloaders(1024, device = device)\n",
    "learn = tabular_learner(dls, layers=[500,250], n_out=1)\n",
    "learn.fit_one_cycle(12, 3e-3)"
   ],
   "outputs": [],
   "metadata": {}
  },
  {
   "cell_type": "code",
   "execution_count": null,
   "source": [],
   "outputs": [],
   "metadata": {}
  }
 ]
}